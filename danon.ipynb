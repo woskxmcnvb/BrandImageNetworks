{
 "cells": [
  {
   "cell_type": "code",
   "execution_count": 1,
   "id": "1d2cb947-aedc-412c-9cc8-b272122ee34b",
   "metadata": {},
   "outputs": [],
   "source": [
    "%load_ext autoreload\n",
    "%autoreload 2\n",
    "\n",
    "import pandas as pd\n",
    "import numpy as np\n",
    "\n",
    "from itertools import product\n",
    "\n",
    "from BSA import ExploratoryAnalysis, PlotGraph"
   ]
  },
  {
   "cell_type": "markdown",
   "id": "305db3b0-0007-4cac-a34f-d1fb87f2a544",
   "metadata": {},
   "source": [
    "# SPSS preprocessing"
   ]
  },
  {
   "cell_type": "code",
   "execution_count": 16,
   "id": "c1e497ff-d773-4d8b-979d-241e9b0fcf58",
   "metadata": {},
   "outputs": [],
   "source": [
    "data = pd.read_spss('data/A006.sav', convert_categoricals=False)\n",
    "#pd.DataFrame(data.columns).to_csv('t.csv')"
   ]
  },
  {
   "cell_type": "code",
   "execution_count": 17,
   "id": "69d77c16-683e-4e58-aace-94f3fc4a5bdb",
   "metadata": {},
   "outputs": [],
   "source": [
    "# filter shit\n",
    "\n",
    "cases_filter_ = (data['QWAVE'] > 68) & (data['QWAVE'] < 79) & (data['SAMPLE']==1) & (data['IMGROT'] == 1)\n",
    "\n",
    "all_brands = [1,2,3,4,5,6,7,8,9,10,11,12,13,14,15,16,17,18,19,20,21,22,25,39,40,41,42,43,44,45,46,47,372,472,977]\n",
    "t_brands = [4,5,6,10,15,16,18,19,20,21,22,44,45,372,472,977]\n",
    "\n",
    "vars_consid = ['CONSID_{}'.format(b) for b in all_brands]\n",
    "vars_consid_trad = ['CONSID_{}'.format(b) for b in t_brands]\n",
    "\n",
    "vars_aware = ['BRAWARE.{}'.format(b) for b in all_brands]\n",
    "vars_aware_trad = ['BRAWARE.{}'.format(b) for b in t_brands]\n",
    "\n",
    "t_stats = list(range(1, 29))\n",
    "\n",
    "# IMGT_27.472\n",
    "vars_image = [\"IMGT_{}.{}\".format(s, b) for s, b in product(t_stats, t_brands)]\n",
    "vars_image\n",
    "\n",
    "req_vars = ['QST_NO'] + vars_aware + vars_consid + vars_image\n",
    "req_vard_trad = ['QST_NO'] + vars_aware_trad + vars_consid_trad + vars_image\n",
    "\n",
    "data = data.loc[cases_filter_, req_vars]\n",
    "#data.to_csv('tt.csv')"
   ]
  },
  {
   "cell_type": "code",
   "execution_count": 18,
   "id": "09475692-4725-40bc-b69c-39295380037d",
   "metadata": {},
   "outputs": [],
   "source": [
    "# Share of consideration\n",
    "\n",
    "cmult = 3.0\n",
    "consideration_mapper = {1: cmult, 2: 1.0, 3: 1/cmult, 4: 0}\n",
    "\n",
    "consideration_share = data[vars_consid].replace(consideration_mapper)\n",
    "consideration_share = consideration_share.div(consideration_share.sum(axis=1), axis=0)\n",
    "\n",
    "data = pd.concat(\n",
    "    [data[['QST_NO'] + vars_aware_trad + vars_image], consideration_share[vars_consid_trad]],\n",
    "    axis=1\n",
    ")"
   ]
  },
  {
   "cell_type": "code",
   "execution_count": 19,
   "id": "3402f40e-4e9e-4f0a-98d3-72e576afed68",
   "metadata": {},
   "outputs": [],
   "source": [
    "# Unpivoting\n",
    "\n",
    "stub_names = ['BRAWARE.', 'CONSID_'] + [\"IMGT_{}.\".format(i) for i in t_stats]\n",
    "stub_names\n",
    "data_long = pd.wide_to_long(data, i='QST_NO', j='brand', stubnames=stub_names)\n",
    "#data_long.columns = ['AWARE', 'CONSID'] + ['IMG_{}'.format(i) for i in t_stats]"
   ]
  },
  {
   "cell_type": "code",
   "execution_count": 20,
   "id": "505867e7-4265-420f-ade4-988a9a479e58",
   "metadata": {},
   "outputs": [],
   "source": [
    "#SOE\n",
    "\n",
    "soe_data = data_long.groupby(['QST_NO'])[['IMGT_{}.'.format(i) for i in t_stats]].transform(lambda x: x / sum(x)).fillna(0)\n",
    "soe_data.columns = ['soe.IMG{:02d}_'.format(i) for i in t_stats]"
   ]
  },
  {
   "cell_type": "code",
   "execution_count": 29,
   "id": "5c9c6c7f-47f5-4a33-881c-da0e49be07f8",
   "metadata": {},
   "outputs": [],
   "source": [
    "final_data = pd.concat(\n",
    "    [data_long[['BRAWARE.', 'CONSID_']], soe_data], \n",
    "    axis=1\n",
    ").sort_values('QST_NO').reset_index().to_excel('data_danone.xlsx', index=False)"
   ]
  },
  {
   "cell_type": "markdown",
   "id": "b0440248-3dab-4a05-b7cb-260638a9011d",
   "metadata": {},
   "source": [
    "# BSA"
   ]
  },
  {
   "cell_type": "code",
   "execution_count": 63,
   "id": "ef868acb-9308-4ff0-bd65-de48b057b64e",
   "metadata": {},
   "outputs": [
    {
     "name": "stdout",
     "output_type": "stream",
     "text": [
      "SOE cross-correlations - Ok\n",
      "SOE to equity correlations - Ok\n",
      "SOE FAs - Ok\n"
     ]
    },
    {
     "data": {
      "application/vnd.jupyter.widget-view+json": {
       "model_id": "1532d234e49a419aa61afcc87774d060",
       "version_major": 2,
       "version_minor": 0
      },
      "text/plain": [
       "  0%|          | 0/1000000 [00:00<?, ?it/s]"
      ]
     },
     "metadata": {},
     "output_type": "display_data"
    },
    {
     "data": {
      "application/vnd.jupyter.widget-view+json": {
       "model_id": "fd32fe1ccea84d439695f7d9238b5c22",
       "version_major": 2,
       "version_minor": 0
      },
      "text/plain": [
       "  0%|          | 0/1000000 [00:00<?, ?it/s]"
      ]
     },
     "metadata": {},
     "output_type": "display_data"
    },
    {
     "name": "stdout",
     "output_type": "stream",
     "text": [
      "Bayes nets graphs - Ok\n",
      "First Order Drivers - Ok\n"
     ]
    },
    {
     "data": {
      "application/vnd.jupyter.widget-view+json": {
       "model_id": "deb6bef5d2424a29be37a44cfdb7a46a",
       "version_major": 2,
       "version_minor": 0
      },
      "text/plain": [
       "Building tree:   0%|          | 0/253.0 [00:00<?, ?it/s]"
      ]
     },
     "metadata": {},
     "output_type": "display_data"
    },
    {
     "data": {
      "application/vnd.jupyter.widget-view+json": {
       "model_id": "0234dd7a2e014fcf9cb4a4fb46748543",
       "version_major": 2,
       "version_minor": 0
      },
      "text/plain": [
       "Building tree:   0%|          | 0/253.0 [00:00<?, ?it/s]"
      ]
     },
     "metadata": {},
     "output_type": "display_data"
    },
    {
     "data": {
      "application/vnd.jupyter.widget-view+json": {
       "model_id": "c100d2b8d7cd40c8974f4ddab2313936",
       "version_major": 2,
       "version_minor": 0
      },
      "text/plain": [
       "Building tree:   0%|          | 0/253.0 [00:00<?, ?it/s]"
      ]
     },
     "metadata": {},
     "output_type": "display_data"
    },
    {
     "data": {
      "application/vnd.jupyter.widget-view+json": {
       "model_id": "74a95d5c2f294222aefd5b7206d6ee4c",
       "version_major": 2,
       "version_minor": 0
      },
      "text/plain": [
       "Building tree:   0%|          | 0/253.0 [00:00<?, ?it/s]"
      ]
     },
     "metadata": {},
     "output_type": "display_data"
    },
    {
     "data": {
      "application/vnd.jupyter.widget-view+json": {
       "model_id": "45fbc39d02bd43188cc9ff35558ea179",
       "version_major": 2,
       "version_minor": 0
      },
      "text/plain": [
       "Building tree:   0%|          | 0/253.0 [00:00<?, ?it/s]"
      ]
     },
     "metadata": {},
     "output_type": "display_data"
    },
    {
     "data": {
      "application/vnd.jupyter.widget-view+json": {
       "model_id": "ad9252963f8a47b8adf8fb5f344dda04",
       "version_major": 2,
       "version_minor": 0
      },
      "text/plain": [
       "Building tree:   0%|          | 0/253.0 [00:00<?, ?it/s]"
      ]
     },
     "metadata": {},
     "output_type": "display_data"
    },
    {
     "data": {
      "application/vnd.jupyter.widget-view+json": {
       "model_id": "c55354eef05648d3a58d282cfd3b553b",
       "version_major": 2,
       "version_minor": 0
      },
      "text/plain": [
       "Building tree:   0%|          | 0/253.0 [00:00<?, ?it/s]"
      ]
     },
     "metadata": {},
     "output_type": "display_data"
    },
    {
     "data": {
      "application/vnd.jupyter.widget-view+json": {
       "model_id": "170655e379694993838dce9527869944",
       "version_major": 2,
       "version_minor": 0
      },
      "text/plain": [
       "Building tree:   0%|          | 0/253.0 [00:00<?, ?it/s]"
      ]
     },
     "metadata": {},
     "output_type": "display_data"
    },
    {
     "data": {
      "application/vnd.jupyter.widget-view+json": {
       "model_id": "2dbdef9491d74c9489448308122349a8",
       "version_major": 2,
       "version_minor": 0
      },
      "text/plain": [
       "Building tree:   0%|          | 0/253.0 [00:00<?, ?it/s]"
      ]
     },
     "metadata": {},
     "output_type": "display_data"
    },
    {
     "data": {
      "application/vnd.jupyter.widget-view+json": {
       "model_id": "3567c9a0d3b74b01a49e6c28fe11b1a9",
       "version_major": 2,
       "version_minor": 0
      },
      "text/plain": [
       "Building tree:   0%|          | 0/253.0 [00:00<?, ?it/s]"
      ]
     },
     "metadata": {},
     "output_type": "display_data"
    },
    {
     "data": {
      "application/vnd.jupyter.widget-view+json": {
       "model_id": "0a2e6c0f31304474a2228d5179c261cc",
       "version_major": 2,
       "version_minor": 0
      },
      "text/plain": [
       "Building tree:   0%|          | 0/253.0 [00:00<?, ?it/s]"
      ]
     },
     "metadata": {},
     "output_type": "display_data"
    },
    {
     "data": {
      "application/vnd.jupyter.widget-view+json": {
       "model_id": "6fd9ea592ebb42cf9c20e14a7ad3a054",
       "version_major": 2,
       "version_minor": 0
      },
      "text/plain": [
       "Building tree:   0%|          | 0/253.0 [00:00<?, ?it/s]"
      ]
     },
     "metadata": {},
     "output_type": "display_data"
    },
    {
     "data": {
      "application/vnd.jupyter.widget-view+json": {
       "model_id": "533fa0028f9e408498eb61648e5c1195",
       "version_major": 2,
       "version_minor": 0
      },
      "text/plain": [
       "Building tree:   0%|          | 0/253.0 [00:00<?, ?it/s]"
      ]
     },
     "metadata": {},
     "output_type": "display_data"
    },
    {
     "data": {
      "application/vnd.jupyter.widget-view+json": {
       "model_id": "5e1c7a8f69a74149afbd8c33090400a7",
       "version_major": 2,
       "version_minor": 0
      },
      "text/plain": [
       "Building tree:   0%|          | 0/253.0 [00:00<?, ?it/s]"
      ]
     },
     "metadata": {},
     "output_type": "display_data"
    },
    {
     "data": {
      "application/vnd.jupyter.widget-view+json": {
       "model_id": "1acb0e2651b64f05a74ade2c03058d6c",
       "version_major": 2,
       "version_minor": 0
      },
      "text/plain": [
       "Building tree:   0%|          | 0/253.0 [00:00<?, ?it/s]"
      ]
     },
     "metadata": {},
     "output_type": "display_data"
    },
    {
     "data": {
      "application/vnd.jupyter.widget-view+json": {
       "model_id": "f09ece5bb02e427e9938a031a0f22b5b",
       "version_major": 2,
       "version_minor": 0
      },
      "text/plain": [
       "Building tree:   0%|          | 0/253.0 [00:00<?, ?it/s]"
      ]
     },
     "metadata": {},
     "output_type": "display_data"
    },
    {
     "data": {
      "application/vnd.jupyter.widget-view+json": {
       "model_id": "1f245010ac3949f28957e0f966139710",
       "version_major": 2,
       "version_minor": 0
      },
      "text/plain": [
       "Building tree:   0%|          | 0/253.0 [00:00<?, ?it/s]"
      ]
     },
     "metadata": {},
     "output_type": "display_data"
    },
    {
     "data": {
      "application/vnd.jupyter.widget-view+json": {
       "model_id": "8009b3480c814daab61406add5f6e518",
       "version_major": 2,
       "version_minor": 0
      },
      "text/plain": [
       "Building tree:   0%|          | 0/253.0 [00:00<?, ?it/s]"
      ]
     },
     "metadata": {},
     "output_type": "display_data"
    },
    {
     "data": {
      "application/vnd.jupyter.widget-view+json": {
       "model_id": "58d0c48d14ad4755992edcc49844fd6e",
       "version_major": 2,
       "version_minor": 0
      },
      "text/plain": [
       "Building tree:   0%|          | 0/253.0 [00:00<?, ?it/s]"
      ]
     },
     "metadata": {},
     "output_type": "display_data"
    },
    {
     "data": {
      "application/vnd.jupyter.widget-view+json": {
       "model_id": "47464bca3cb346fe881e6c073bf129d4",
       "version_major": 2,
       "version_minor": 0
      },
      "text/plain": [
       "Building tree:   0%|          | 0/253.0 [00:00<?, ?it/s]"
      ]
     },
     "metadata": {},
     "output_type": "display_data"
    },
    {
     "data": {
      "application/vnd.jupyter.widget-view+json": {
       "model_id": "421bdcddf53c4786853653e3566dd6b5",
       "version_major": 2,
       "version_minor": 0
      },
      "text/plain": [
       "Building tree:   0%|          | 0/253.0 [00:00<?, ?it/s]"
      ]
     },
     "metadata": {},
     "output_type": "display_data"
    },
    {
     "data": {
      "application/vnd.jupyter.widget-view+json": {
       "model_id": "72b6e3eb01eb4893a107f5fb09e7f886",
       "version_major": 2,
       "version_minor": 0
      },
      "text/plain": [
       "Building tree:   0%|          | 0/253.0 [00:00<?, ?it/s]"
      ]
     },
     "metadata": {},
     "output_type": "display_data"
    },
    {
     "data": {
      "application/vnd.jupyter.widget-view+json": {
       "model_id": "284e89eb96654ba8a5b907299dfce10b",
       "version_major": 2,
       "version_minor": 0
      },
      "text/plain": [
       "Building tree:   0%|          | 0/253.0 [00:00<?, ?it/s]"
      ]
     },
     "metadata": {},
     "output_type": "display_data"
    },
    {
     "name": "stdout",
     "output_type": "stream",
     "text": [
      "Tree Graphs - Ok\n"
     ]
    }
   ],
   "source": [
    "expl = ExploratoryAnalysis()\n",
    "expl.DEBUG('data/data_danone.xlsx', mdf_based=False, targets='Consideration', \n",
    "           correlations=True, factor_solutions=True, BSA_graphs=True, tree_graphs=True)"
   ]
  },
  {
   "cell_type": "code",
   "execution_count": 67,
   "id": "972610f3-9c2b-4f85-81be-fc72a93e67a3",
   "metadata": {},
   "outputs": [
    {
     "name": "stdout",
     "output_type": "stream",
     "text": [
      "Read File - Ok\n",
      "SOE cross-correlations - Ok\n",
      "SOE to equity correlations - Ok\n",
      "SOE FAs - Ok\n"
     ]
    },
    {
     "data": {
      "application/vnd.jupyter.widget-view+json": {
       "model_id": "5c690494e5554329bbf9da7215945c15",
       "version_major": 2,
       "version_minor": 0
      },
      "text/plain": [
       "  0%|          | 0/1000000 [00:00<?, ?it/s]"
      ]
     },
     "metadata": {},
     "output_type": "display_data"
    },
    {
     "data": {
      "application/vnd.jupyter.widget-view+json": {
       "model_id": "b0c333a39b8940a08cbac6df5b67b005",
       "version_major": 2,
       "version_minor": 0
      },
      "text/plain": [
       "  0%|          | 0/1000000 [00:00<?, ?it/s]"
      ]
     },
     "metadata": {},
     "output_type": "display_data"
    },
    {
     "name": "stdout",
     "output_type": "stream",
     "text": [
      "Bayes nets graphs - Ok\n",
      "First Order Drivers - Ok\n"
     ]
    },
    {
     "data": {
      "application/vnd.jupyter.widget-view+json": {
       "model_id": "05b836bc0ee84ae589516f2e38f0dcdf",
       "version_major": 2,
       "version_minor": 0
      },
      "text/plain": [
       "Building tree:   0%|          | 0/153.0 [00:00<?, ?it/s]"
      ]
     },
     "metadata": {},
     "output_type": "display_data"
    },
    {
     "data": {
      "application/vnd.jupyter.widget-view+json": {
       "model_id": "ea83a72f59d146a9bea32290bf3ec98b",
       "version_major": 2,
       "version_minor": 0
      },
      "text/plain": [
       "Building tree:   0%|          | 0/153.0 [00:00<?, ?it/s]"
      ]
     },
     "metadata": {},
     "output_type": "display_data"
    },
    {
     "data": {
      "application/vnd.jupyter.widget-view+json": {
       "model_id": "9a2e9f8c1e7d41fcaabccb36f7d225c5",
       "version_major": 2,
       "version_minor": 0
      },
      "text/plain": [
       "Building tree:   0%|          | 0/153.0 [00:00<?, ?it/s]"
      ]
     },
     "metadata": {},
     "output_type": "display_data"
    },
    {
     "data": {
      "application/vnd.jupyter.widget-view+json": {
       "model_id": "bfa6003ff0d84913bfc98e7dc3c98747",
       "version_major": 2,
       "version_minor": 0
      },
      "text/plain": [
       "Building tree:   0%|          | 0/153.0 [00:00<?, ?it/s]"
      ]
     },
     "metadata": {},
     "output_type": "display_data"
    },
    {
     "data": {
      "application/vnd.jupyter.widget-view+json": {
       "model_id": "7def941a1f854dd7ac4529b020ac6701",
       "version_major": 2,
       "version_minor": 0
      },
      "text/plain": [
       "Building tree:   0%|          | 0/153.0 [00:00<?, ?it/s]"
      ]
     },
     "metadata": {},
     "output_type": "display_data"
    },
    {
     "data": {
      "application/vnd.jupyter.widget-view+json": {
       "model_id": "3183640104ee44a5bcc5089a550e1055",
       "version_major": 2,
       "version_minor": 0
      },
      "text/plain": [
       "Building tree:   0%|          | 0/153.0 [00:00<?, ?it/s]"
      ]
     },
     "metadata": {},
     "output_type": "display_data"
    },
    {
     "data": {
      "application/vnd.jupyter.widget-view+json": {
       "model_id": "637ead71bead4a02ac5a9faa135dd404",
       "version_major": 2,
       "version_minor": 0
      },
      "text/plain": [
       "Building tree:   0%|          | 0/153.0 [00:00<?, ?it/s]"
      ]
     },
     "metadata": {},
     "output_type": "display_data"
    },
    {
     "data": {
      "application/vnd.jupyter.widget-view+json": {
       "model_id": "ff2c72dad05441abb33e7cc16892f6d9",
       "version_major": 2,
       "version_minor": 0
      },
      "text/plain": [
       "Building tree:   0%|          | 0/153.0 [00:00<?, ?it/s]"
      ]
     },
     "metadata": {},
     "output_type": "display_data"
    },
    {
     "data": {
      "application/vnd.jupyter.widget-view+json": {
       "model_id": "991c4afbccde415ab93c2f30f3b5e36c",
       "version_major": 2,
       "version_minor": 0
      },
      "text/plain": [
       "Building tree:   0%|          | 0/153.0 [00:00<?, ?it/s]"
      ]
     },
     "metadata": {},
     "output_type": "display_data"
    },
    {
     "data": {
      "application/vnd.jupyter.widget-view+json": {
       "model_id": "b519bbefc2604eba9ac30b23e4688941",
       "version_major": 2,
       "version_minor": 0
      },
      "text/plain": [
       "Building tree:   0%|          | 0/153.0 [00:00<?, ?it/s]"
      ]
     },
     "metadata": {},
     "output_type": "display_data"
    },
    {
     "data": {
      "application/vnd.jupyter.widget-view+json": {
       "model_id": "092cf666a35f4a10a26f2605a3c1818d",
       "version_major": 2,
       "version_minor": 0
      },
      "text/plain": [
       "Building tree:   0%|          | 0/153.0 [00:00<?, ?it/s]"
      ]
     },
     "metadata": {},
     "output_type": "display_data"
    },
    {
     "data": {
      "application/vnd.jupyter.widget-view+json": {
       "model_id": "d51d8298a9dc427bb487ab37eef5aa8b",
       "version_major": 2,
       "version_minor": 0
      },
      "text/plain": [
       "Building tree:   0%|          | 0/153.0 [00:00<?, ?it/s]"
      ]
     },
     "metadata": {},
     "output_type": "display_data"
    },
    {
     "data": {
      "application/vnd.jupyter.widget-view+json": {
       "model_id": "d9151d2f5e6545c4a7ae4260f383f294",
       "version_major": 2,
       "version_minor": 0
      },
      "text/plain": [
       "Building tree:   0%|          | 0/153.0 [00:00<?, ?it/s]"
      ]
     },
     "metadata": {},
     "output_type": "display_data"
    },
    {
     "data": {
      "application/vnd.jupyter.widget-view+json": {
       "model_id": "8519ec92966549ba971ee2effc57b7b7",
       "version_major": 2,
       "version_minor": 0
      },
      "text/plain": [
       "Building tree:   0%|          | 0/153.0 [00:00<?, ?it/s]"
      ]
     },
     "metadata": {},
     "output_type": "display_data"
    },
    {
     "data": {
      "application/vnd.jupyter.widget-view+json": {
       "model_id": "6beea50c0d174717b25f51d646354f9f",
       "version_major": 2,
       "version_minor": 0
      },
      "text/plain": [
       "Building tree:   0%|          | 0/153.0 [00:00<?, ?it/s]"
      ]
     },
     "metadata": {},
     "output_type": "display_data"
    },
    {
     "data": {
      "application/vnd.jupyter.widget-view+json": {
       "model_id": "4d6f91588bdb441789ef14c8df8c00c1",
       "version_major": 2,
       "version_minor": 0
      },
      "text/plain": [
       "Building tree:   0%|          | 0/153.0 [00:00<?, ?it/s]"
      ]
     },
     "metadata": {},
     "output_type": "display_data"
    },
    {
     "data": {
      "application/vnd.jupyter.widget-view+json": {
       "model_id": "75f80846864e4baab0dd49264aa305ef",
       "version_major": 2,
       "version_minor": 0
      },
      "text/plain": [
       "Building tree:   0%|          | 0/153.0 [00:00<?, ?it/s]"
      ]
     },
     "metadata": {},
     "output_type": "display_data"
    },
    {
     "data": {
      "application/vnd.jupyter.widget-view+json": {
       "model_id": "89439c44208b4e0f8a1805719408578d",
       "version_major": 2,
       "version_minor": 0
      },
      "text/plain": [
       "Building tree:   0%|          | 0/153.0 [00:00<?, ?it/s]"
      ]
     },
     "metadata": {},
     "output_type": "display_data"
    },
    {
     "name": "stdout",
     "output_type": "stream",
     "text": [
      "Tree Graphs - Ok\n"
     ]
    }
   ],
   "source": [
    "expl = ExploratoryAnalysis()\n",
    "expl.ExploratoryReport('data/data_drug.xlsx', factor_solutions=True, tree_graphs=True)"
   ]
  }
 ],
 "metadata": {
  "kernelspec": {
   "display_name": "Python 3 (ipykernel)",
   "language": "python",
   "name": "python3"
  },
  "language_info": {
   "codemirror_mode": {
    "name": "ipython",
    "version": 3
   },
   "file_extension": ".py",
   "mimetype": "text/x-python",
   "name": "python",
   "nbconvert_exporter": "python",
   "pygments_lexer": "ipython3",
   "version": "3.12.2"
  }
 },
 "nbformat": 4,
 "nbformat_minor": 5
}

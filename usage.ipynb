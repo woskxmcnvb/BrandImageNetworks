{
 "cells": [
  {
   "cell_type": "code",
   "execution_count": 4,
   "id": "1d2cb947-aedc-412c-9cc8-b272122ee34b",
   "metadata": {},
   "outputs": [],
   "source": [
    "%load_ext autoreload\n",
    "%autoreload 2\n",
    "\n",
    "import pandas as pd\n",
    "import numpy as np\n",
    "\n",
    "from BSA import ImageStructureAnalysis, PlotGraph"
   ]
  },
  {
   "cell_type": "markdown",
   "id": "04d36edf-b78b-4c62-b6f6-c979b6f67b52",
   "metadata": {},
   "source": [
    "# Unilever Oral with brand look "
   ]
  },
  {
   "cell_type": "markdown",
   "id": "3f2c70c3-2beb-425f-9b4d-6b36e3a4b7d5",
   "metadata": {},
   "source": [
    "Здесь есть Brand Look"
   ]
  },
  {
   "cell_type": "code",
   "execution_count": null,
   "id": "449daca9-fe15-4ad4-a261-0941868b083a",
   "metadata": {},
   "outputs": [],
   "source": [
    "# Stage 1. Описательно - подготовительный анализ \n",
    "# можно выбрать разделы в отчете которые нужны\n",
    "# оставит эксель файл с похожим названием\n",
    "bsa = ImageStructureAnalysis()\n",
    "bsa.EploratoryAnalisys('data/data.xlsx', \n",
    "                       mdf_based=True, \n",
    "                       report_correlations=True, \n",
    "                       report_factor_solutions=True, \n",
    "                       report_auto_graphs=True, \n",
    "                       report_tree_graphs=True)"
   ]
  },
  {
   "cell_type": "code",
   "execution_count": 12,
   "id": "75c9951b-86c0-4036-b002-606e839d0983",
   "metadata": {},
   "outputs": [
    {
     "name": "stdout",
     "output_type": "stream",
     "text": [
      "Info: Init and Read - Ok\n",
      "Info: model 0 complete\n"
     ]
    }
   ],
   "source": [
    "# Stage 2. Построение BSA модели\n",
    "# ожидается что модель (или несколько) специфицированы на листах model_spec... \n",
    "# оставит эксель файл с похожим названием\n",
    "bsa = ImageStructureAnalysis()\n",
    "bsa.BSAAnalysis('data/data.xlsx', mdf_based=True)"
   ]
  },
  {
   "cell_type": "markdown",
   "id": "5290196e-f5f8-4ff6-a1a4-d5e6adf5638a",
   "metadata": {},
   "source": [
    "# Danone milk без brand Look. Цель - Consideration, SUPERIORITY"
   ]
  },
  {
   "cell_type": "code",
   "execution_count": null,
   "id": "0d39c973-ea3b-4056-b196-296bcf27a343",
   "metadata": {},
   "outputs": [],
   "source": [
    "# Stage 1. Описательно - подготовительный анализ \n",
    "# можно выбрать разделы в отчете которые нужны\n",
    "# оставит эксель файл с похожим названием\n",
    "bsa = ImageStructureAnalysis()\n",
    "bsa.EploratoryAnalisys('data/danone_trad.xlsx', \n",
    "                       mdf_based=False,\n",
    "                       model_targets='Consideration', #здесь только Cons, потому что SUPERIORITY - это конструкт, который собирается только на 2 этапе вручную\n",
    "                       report_correlations=True, \n",
    "                       report_factor_solutions=True, \n",
    "                       report_auto_graphs=True, \n",
    "                       report_tree_graphs=True)"
   ]
  },
  {
   "cell_type": "code",
   "execution_count": 16,
   "id": "4d5052e4-9b40-4339-97ce-1066a093c78f",
   "metadata": {},
   "outputs": [
    {
     "name": "stdout",
     "output_type": "stream",
     "text": [
      "Warning: Check missing columns in the data: ['SUPERIORITY']. It is ok only if they are constructs\n",
      "Info: Init and Read - Ok\n",
      "Info: model 0 complete\n"
     ]
    }
   ],
   "source": [
    "# Stage 2. Построение BSA модели\n",
    "# ожидается что модель (или несколько) специфицированы на листах model_spec... \n",
    "# оставит эксель файл с похожим названием\n",
    "bsa = ImageStructureAnalysis()\n",
    "bsa.BSAAnalysis('data/danone_trad.xlsx', mdf_based=False, model_targets=['Consideration', 'SUPERIORITY'])"
   ]
  }
 ],
 "metadata": {
  "kernelspec": {
   "display_name": "Python 3 (ipykernel)",
   "language": "python",
   "name": "python3"
  },
  "language_info": {
   "codemirror_mode": {
    "name": "ipython",
    "version": 3
   },
   "file_extension": ".py",
   "mimetype": "text/x-python",
   "name": "python",
   "nbconvert_exporter": "python",
   "pygments_lexer": "ipython3",
   "version": "3.12.2"
  }
 },
 "nbformat": 4,
 "nbformat_minor": 5
}

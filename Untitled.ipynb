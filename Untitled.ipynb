{
 "cells": [
  {
   "cell_type": "code",
   "execution_count": 3,
   "id": "5e2c90e2-9aec-4c86-885c-a081de98b50b",
   "metadata": {},
   "outputs": [
    {
     "data": {
      "text/plain": [
       "[{'from': 'EMOTIONAL', 'to': 'GRATIFICATION', 'type': 'mdf'},\n",
       " {'from': 'RATIONAL', 'to': 'GRATIFICATION', 'type': 'mdf'},\n",
       " {'from': 'LEADERSHIP', 'to': 'GRATIFICATION', 'type': 'mdf'},\n",
       " {'from': 'UNIQUENESS', 'to': 'GRATIFICATION', 'type': 'mdf'},\n",
       " {'from': 'EMOTIONAL', 'to': 'DISTINCTION', 'type': 'mdf'},\n",
       " {'from': 'RATIONAL', 'to': 'DISTINCTION', 'type': 'mdf'},\n",
       " {'from': 'LEADERSHIP', 'to': 'DISTINCTION', 'type': 'mdf'},\n",
       " {'from': 'UNIQUENESS', 'to': 'DISTINCTION', 'type': 'mdf'},\n",
       " {'from': 'EMOTIONAL', 'to': 'AMPLIFICATION', 'type': 'mdf'},\n",
       " {'from': 'RATIONAL', 'to': 'AMPLIFICATION', 'type': 'mdf'},\n",
       " {'from': 'LEADERSHIP', 'to': 'AMPLIFICATION', 'type': 'mdf'},\n",
       " {'from': 'UNIQUENESS', 'to': 'AMPLIFICATION', 'type': 'mdf'},\n",
       " {'from': 'GRATIFICATION', 'to': 'POWER', 'type': 'mdf'},\n",
       " {'from': 'DISTINCTION', 'to': 'POWER', 'type': 'mdf'},\n",
       " {'from': 'AMPLIFICATION', 'to': 'POWER', 'type': 'mdf'},\n",
       " {'from': 'GRATIFICATION', 'to': 'PREMIUM', 'type': 'mdf'},\n",
       " {'from': 'DISTINCTION', 'to': 'PREMIUM', 'type': 'mdf'},\n",
       " {'from': 'AMPLIFICATION', 'to': 'PREMIUM', 'type': 'mdf'}]"
      ]
     },
     "execution_count": 3,
     "metadata": {},
     "output_type": "execute_result"
    }
   ],
   "source": [
    "MDF_GRAPH = [\n",
    "    ('EMOTIONAL', 'GRATIFICATION'),\n",
    "    ('RATIONAL', 'GRATIFICATION'),\n",
    "    ('LEADERSHIP', 'GRATIFICATION'),\n",
    "    ('UNIQUENESS', 'GRATIFICATION'),\n",
    "    ('EMOTIONAL', 'DISTINCTION'),\n",
    "    ('RATIONAL', 'DISTINCTION'),\n",
    "    ('LEADERSHIP', 'DISTINCTION'),\n",
    "    ('UNIQUENESS', 'DISTINCTION'),\n",
    "    ('EMOTIONAL', 'AMPLIFICATION'),\n",
    "    ('RATIONAL', 'AMPLIFICATION'),\n",
    "    ('LEADERSHIP', 'AMPLIFICATION'),\n",
    "    ('UNIQUENESS', 'AMPLIFICATION'),\n",
    "    ('GRATIFICATION', 'POWER'),\n",
    "    ('DISTINCTION', 'POWER'),\n",
    "    ('AMPLIFICATION', 'POWER'),\n",
    "    ('GRATIFICATION', 'PREMIUM'),\n",
    "    ('DISTINCTION', 'PREMIUM'),\n",
    "    ('AMPLIFICATION', 'PREMIUM'),\n",
    "]\n",
    "\n",
    "[{'from': f, 'to': t, 'type': 'mdf'} for f, t in MDF_GRAPH]"
   ]
  }
 ],
 "metadata": {
  "kernelspec": {
   "display_name": "Python 3 (ipykernel)",
   "language": "python",
   "name": "python3"
  },
  "language_info": {
   "codemirror_mode": {
    "name": "ipython",
    "version": 3
   },
   "file_extension": ".py",
   "mimetype": "text/x-python",
   "name": "python",
   "nbconvert_exporter": "python",
   "pygments_lexer": "ipython3",
   "version": "3.12.2"
  }
 },
 "nbformat": 4,
 "nbformat_minor": 5
}

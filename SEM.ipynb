{
 "cells": [
  {
   "cell_type": "code",
   "execution_count": 2,
   "id": "bda2664a-9b84-4f08-a084-7c1875518135",
   "metadata": {},
   "outputs": [],
   "source": [
    "%load_ext autoreload\n",
    "%autoreload 2\n",
    "\n",
    "import pandas as pd\n",
    "import semopy\n",
    "\n",
    "from BSA import ExploratoryAnalysis"
   ]
  },
  {
   "cell_type": "code",
   "execution_count": 3,
   "id": "77c98971-9a97-4171-92fd-60e1743a8f59",
   "metadata": {},
   "outputs": [
    {
     "data": {
      "application/vnd.jupyter.widget-view+json": {
       "model_id": "b905d679cbb94c96bd3eac955f9e3e0a",
       "version_major": 2,
       "version_minor": 0
      },
      "text/plain": [
       "  0%|          | 0/1000000 [00:00<?, ?it/s]"
      ]
     },
     "metadata": {},
     "output_type": "display_data"
    },
    {
     "data": {
      "application/vnd.jupyter.widget-view+json": {
       "model_id": "27df92bfbd534a29bc306a07f132ede8",
       "version_major": 2,
       "version_minor": 0
      },
      "text/plain": [
       "  0%|          | 0/1000000 [00:00<?, ?it/s]"
      ]
     },
     "metadata": {},
     "output_type": "display_data"
    },
    {
     "data": {
      "application/vnd.jupyter.widget-view+json": {
       "model_id": "87b46d0a9d824451b9b82fa73a182f2b",
       "version_major": 2,
       "version_minor": 0
      },
      "text/plain": [
       "  0%|          | 0/1000000 [00:00<?, ?it/s]"
      ]
     },
     "metadata": {},
     "output_type": "display_data"
    },
    {
     "data": {
      "application/vnd.jupyter.widget-view+json": {
       "model_id": "44bd8af5b1e7498b8b917c099db1ac94",
       "version_major": 2,
       "version_minor": 0
      },
      "text/plain": [
       "  0%|          | 0/1000000 [00:00<?, ?it/s]"
      ]
     },
     "metadata": {},
     "output_type": "display_data"
    },
    {
     "data": {
      "application/vnd.jupyter.widget-view+json": {
       "model_id": "21e5f6e6c8d4404b8b906400f67eba6c",
       "version_major": 2,
       "version_minor": 0
      },
      "text/plain": [
       "  0%|          | 0/1000000 [00:00<?, ?it/s]"
      ]
     },
     "metadata": {},
     "output_type": "display_data"
    },
    {
     "data": {
      "application/vnd.jupyter.widget-view+json": {
       "model_id": "330b600ee61f4f96baaa2f93c6c3a1dd",
       "version_major": 2,
       "version_minor": 0
      },
      "text/plain": [
       "  0%|          | 0/1000000 [00:00<?, ?it/s]"
      ]
     },
     "metadata": {},
     "output_type": "display_data"
    }
   ],
   "source": [
    "# to get the data\n",
    "\n",
    "expl = ExploratoryAnalysis()\n",
    "expl.ExploratoryReport('data.xlsx')"
   ]
  },
  {
   "cell_type": "code",
   "execution_count": 4,
   "id": "f6cb8dcd-8f40-4af8-a2f0-5e72f0603363",
   "metadata": {},
   "outputs": [],
   "source": [
    "data = expl.clean_data\n",
    "#data"
   ]
  },
  {
   "cell_type": "code",
   "execution_count": null,
   "id": "e50ac050-bbfe-41d9-8108-7735d8ac05b3",
   "metadata": {},
   "outputs": [],
   "source": []
  },
  {
   "cell_type": "markdown",
   "id": "875db0eb-a3ca-4470-b441-ae3594fb33ed",
   "metadata": {},
   "source": [
    "# SEMOPY"
   ]
  },
  {
   "cell_type": "code",
   "execution_count": 21,
   "id": "79a2b70f-d73d-4f1d-a3fa-7957b36c73ab",
   "metadata": {},
   "outputs": [
    {
     "data": {
      "text/plain": [
       "SolverResult(fun=2.329693016278611e-08, success=True, n_it=21, x=array([ 9.830368  ,  4.30392963,  7.65398318, 30.07126419]), message='Optimization terminated successfully', name_method='SLSQP', name_obj='MLW')"
      ]
     },
     "execution_count": 21,
     "metadata": {},
     "output_type": "execute_result"
    }
   ],
   "source": [
    "sem_model_description = '''\n",
    "Power ~ Meaningful + Different + Salient\n",
    "'''\n",
    "sem_model = semopy.Model(sem_model_description)\n",
    "\n",
    "sem_model.fit(data)"
   ]
  },
  {
   "cell_type": "code",
   "execution_count": 18,
   "id": "c628e7ed-19f5-45f5-ab1e-206dc6d28111",
   "metadata": {},
   "outputs": [
    {
     "data": {
      "text/html": [
       "<div>\n",
       "<style scoped>\n",
       "    .dataframe tbody tr th:only-of-type {\n",
       "        vertical-align: middle;\n",
       "    }\n",
       "\n",
       "    .dataframe tbody tr th {\n",
       "        vertical-align: top;\n",
       "    }\n",
       "\n",
       "    .dataframe thead th {\n",
       "        text-align: right;\n",
       "    }\n",
       "</style>\n",
       "<table border=\"1\" class=\"dataframe\">\n",
       "  <thead>\n",
       "    <tr style=\"text-align: right;\">\n",
       "      <th></th>\n",
       "      <th>lval</th>\n",
       "      <th>op</th>\n",
       "      <th>rval</th>\n",
       "      <th>Estimate</th>\n",
       "      <th>Std. Err</th>\n",
       "      <th>z-value</th>\n",
       "      <th>p-value</th>\n",
       "    </tr>\n",
       "  </thead>\n",
       "  <tbody>\n",
       "    <tr>\n",
       "      <th>0</th>\n",
       "      <td>Power</td>\n",
       "      <td>~</td>\n",
       "      <td>Meaningful</td>\n",
       "      <td>9.830368</td>\n",
       "      <td>0.044152</td>\n",
       "      <td>222.648922</td>\n",
       "      <td>0.0</td>\n",
       "    </tr>\n",
       "    <tr>\n",
       "      <th>1</th>\n",
       "      <td>Power</td>\n",
       "      <td>~</td>\n",
       "      <td>Different</td>\n",
       "      <td>4.303930</td>\n",
       "      <td>0.044152</td>\n",
       "      <td>97.480104</td>\n",
       "      <td>0.0</td>\n",
       "    </tr>\n",
       "    <tr>\n",
       "      <th>2</th>\n",
       "      <td>Power</td>\n",
       "      <td>~</td>\n",
       "      <td>Salient</td>\n",
       "      <td>7.653983</td>\n",
       "      <td>0.044152</td>\n",
       "      <td>173.355779</td>\n",
       "      <td>0.0</td>\n",
       "    </tr>\n",
       "    <tr>\n",
       "      <th>3</th>\n",
       "      <td>Power</td>\n",
       "      <td>~~</td>\n",
       "      <td>Power</td>\n",
       "      <td>30.071264</td>\n",
       "      <td>0.342405</td>\n",
       "      <td>87.823687</td>\n",
       "      <td>0.0</td>\n",
       "    </tr>\n",
       "  </tbody>\n",
       "</table>\n",
       "</div>"
      ],
      "text/plain": [
       "    lval  op        rval   Estimate  Std. Err     z-value  p-value\n",
       "0  Power   ~  Meaningful   9.830368  0.044152  222.648922      0.0\n",
       "1  Power   ~   Different   4.303930  0.044152   97.480104      0.0\n",
       "2  Power   ~     Salient   7.653983  0.044152  173.355779      0.0\n",
       "3  Power  ~~       Power  30.071264  0.342405   87.823687      0.0"
      ]
     },
     "execution_count": 18,
     "metadata": {},
     "output_type": "execute_result"
    }
   ],
   "source": [
    "sem_model.inspect()"
   ]
  },
  {
   "cell_type": "code",
   "execution_count": null,
   "id": "067211d7-8a3b-4b60-8eac-8ccf330e70ea",
   "metadata": {},
   "outputs": [],
   "source": []
  },
  {
   "cell_type": "markdown",
   "id": "7a9f6672-2380-4d59-b905-f9cdd9b7fff9",
   "metadata": {
    "jp-MarkdownHeadingCollapsed": true
   },
   "source": [
    "# PGMPY SEM"
   ]
  },
  {
   "cell_type": "code",
   "execution_count": 70,
   "id": "036f6029-3218-4bd1-ad8b-13644e8de15e",
   "metadata": {},
   "outputs": [],
   "source": [
    "# не заработало"
   ]
  },
  {
   "cell_type": "code",
   "execution_count": 41,
   "id": "82b0aaa2-3439-47ba-9921-eb0753ce3c2a",
   "metadata": {},
   "outputs": [],
   "source": [
    "import pgmpy\n",
    "from pgmpy.models import SEM, SEMGraph\n",
    "from pgmpy.estimators import SEMEstimator, IVEstimator\n",
    "\n",
    "pgmpy.config.set_backend('torch')\n"
   ]
  },
  {
   "cell_type": "code",
   "execution_count": 69,
   "id": "478bbc52-21fa-4313-aad6-4564b03c9c88",
   "metadata": {},
   "outputs": [
    {
     "data": {
      "text/plain": [
       "Different     2.009595e-12\n",
       "Meaningful   -1.231688e-12\n",
       "Power         1.296512e+01\n",
       "Salient       2.463371e-12\n",
       "dtype: float64"
      ]
     },
     "execution_count": 69,
     "metadata": {},
     "output_type": "execute_result"
    }
   ],
   "source": [
    "data[vars_].mean()"
   ]
  },
  {
   "cell_type": "code",
   "execution_count": null,
   "id": "7556f671-ba0d-4264-bf25-31ba7bca7cf6",
   "metadata": {},
   "outputs": [],
   "source": [
    "ebunch_ = [\n",
    "    ('Power', 'Meaningful'),\n",
    "    ('Power', 'Different'), \n",
    "    ('Power', 'Salient'), \n",
    "]\n",
    "\n",
    "vars_ = ['Different', 'Meaningful', 'Power', 'Salient']\n",
    "\n",
    "#observed_ = ['Power', 'Meaningful', 'Different', 'Salient']\n",
    "model = SEMGraph(ebunch_)\n",
    "estimator = SEMEstimator(model).fit(data[vars_], method='ml')\n"
   ]
  },
  {
   "cell_type": "code",
   "execution_count": null,
   "id": "dae088ab-ab6e-47c3-9193-a4acc8498ff1",
   "metadata": {},
   "outputs": [],
   "source": []
  },
  {
   "cell_type": "code",
   "execution_count": 106,
   "id": "4f295a70-a472-43a5-ab9a-2306927ea148",
   "metadata": {},
   "outputs": [
    {
     "name": "stdout",
     "output_type": "stream",
     "text": [
      "Package                   Version\n",
      "------------------------- ------------\n",
      "anyio                     4.2.0\n",
      "argon2-cffi               21.3.0\n",
      "argon2-cffi-bindings      21.2.0\n",
      "asttokens                 2.0.5\n",
      "async-lru                 2.0.4\n",
      "attrs                     23.1.0\n",
      "Babel                     2.11.0\n",
      "beautifulsoup4            4.12.2\n",
      "bleach                    4.1.0\n",
      "Brotli                    1.0.9\n",
      "certifi                   2024.2.2\n",
      "cffi                      1.16.0\n",
      "charset-normalizer        2.0.4\n",
      "colorama                  0.4.6\n",
      "comm                      0.2.1\n",
      "contourpy                 1.2.1\n",
      "cycler                    0.12.1\n",
      "daft                      0.1.2\n",
      "debugpy                   1.6.7\n",
      "decorator                 5.1.1\n",
      "defusedxml                0.7.1\n",
      "et-xmlfile                1.1.0\n",
      "executing                 0.8.3\n",
      "factor_analyzer           0.5.1\n",
      "fastjsonschema            2.16.2\n",
      "filelock                  3.13.3\n",
      "fonttools                 4.50.0\n",
      "fsspec                    2024.3.1\n",
      "idna                      3.4\n",
      "ipykernel                 6.28.0\n",
      "ipython                   8.20.0\n",
      "ipywidgets                8.1.2\n",
      "jedi                      0.18.1\n",
      "Jinja2                    3.1.3\n",
      "joblib                    1.3.2\n",
      "json5                     0.9.6\n",
      "jsonschema                4.19.2\n",
      "jsonschema-specifications 2023.7.1\n",
      "jupyter_client            8.6.0\n",
      "jupyter_core              5.5.0\n",
      "jupyter-events            0.8.0\n",
      "jupyter-lsp               2.2.0\n",
      "jupyter_server            2.10.0\n",
      "jupyter_server_terminals  0.4.4\n",
      "jupyterlab                4.0.11\n",
      "jupyterlab-pygments       0.1.2\n",
      "jupyterlab_server         2.25.1\n",
      "jupyterlab_widgets        3.0.10\n",
      "kiwisolver                1.4.5\n",
      "lxml                      5.2.1\n",
      "MarkupSafe                2.1.3\n",
      "matplotlib                3.8.3\n",
      "matplotlib-inline         0.1.6\n",
      "mistune                   2.0.4\n",
      "mpmath                    1.3.0\n",
      "nbclient                  0.8.0\n",
      "nbconvert                 7.10.0\n",
      "nbformat                  5.9.2\n",
      "nest-asyncio              1.6.0\n",
      "networkx                  3.2.1\n",
      "notebook_shim             0.2.3\n",
      "numdifftools              0.9.41\n",
      "numpy                     1.26.4\n",
      "openpyxl                  3.1.2\n",
      "opt-einsum                3.3.0\n",
      "overrides                 7.4.0\n",
      "packaging                 23.2\n",
      "pandas                    2.2.1\n",
      "pandocfilters             1.5.0\n",
      "parso                     0.8.3\n",
      "patsy                     0.5.6\n",
      "pgmpy                     0.1.25\n",
      "pillow                    10.3.0\n",
      "pip                       23.3.1\n",
      "platformdirs              3.10.0\n",
      "plspm                     0.5.6\n",
      "prometheus-client         0.14.1\n",
      "prompt-toolkit            3.0.43\n",
      "psutil                    5.9.0\n",
      "pure-eval                 0.2.2\n",
      "pycparser                 2.21\n",
      "Pygments                  2.15.1\n",
      "pygraphviz                1.12\n",
      "pyparsing                 3.1.2\n",
      "PySocks                   1.7.1\n",
      "python-dateutil           2.8.2\n",
      "python-json-logger        2.0.7\n",
      "pytz                      2023.3.post1\n",
      "pywin32                   305.1\n",
      "pywinpty                  2.0.10\n",
      "PyYAML                    6.0.1\n",
      "pyzmq                     25.1.2\n",
      "referencing               0.30.2\n",
      "requests                  2.31.0\n",
      "rfc3339-validator         0.1.4\n",
      "rfc3986-validator         0.1.1\n",
      "rpds-py                   0.10.6\n",
      "scikit-learn              1.4.1.post1\n",
      "scipy                     1.13.0\n",
      "seaborn                   0.13.2\n",
      "semopy                    2.3.11\n",
      "Send2Trash                1.8.2\n",
      "setuptools                68.2.2\n",
      "six                       1.16.0\n",
      "sniffio                   1.3.0\n",
      "soupsieve                 2.5\n",
      "stack-data                0.2.0\n",
      "statsmodels               0.14.1\n",
      "sympy                     1.12\n",
      "terminado                 0.17.1\n",
      "threadpoolctl             3.4.0\n",
      "tinycss2                  1.2.1\n",
      "torch                     2.2.2\n",
      "tornado                   6.3.3\n",
      "tqdm                      4.66.2\n",
      "traitlets                 5.7.1\n",
      "typing_extensions         4.9.0\n",
      "tzdata                    2024.1\n",
      "urllib3                   2.1.0\n",
      "wcwidth                   0.2.5\n",
      "webencodings              0.5.1\n",
      "websocket-client          0.58.0\n",
      "wheel                     0.41.2\n",
      "widgetsnbextension        4.0.10\n",
      "win-inet-pton             1.1.0\n",
      "Note: you may need to restart the kernel to use updated packages.\n"
     ]
    }
   ],
   "source": [
    "pip list"
   ]
  },
  {
   "cell_type": "markdown",
   "id": "c85c6e29-dcc8-4255-991e-90eefcc2728d",
   "metadata": {},
   "source": [
    "# PLSPM"
   ]
  },
  {
   "cell_type": "code",
   "execution_count": 5,
   "id": "a83670f9-77a1-4dc4-a328-8c1ac90838eb",
   "metadata": {},
   "outputs": [],
   "source": [
    "import plspm.config as c\n",
    "from plspm.plspm import Plspm\n",
    "from plspm.scheme import Scheme\n",
    "from plspm.mode import Mode"
   ]
  },
  {
   "cell_type": "code",
   "execution_count": 28,
   "id": "133a8ed0-654d-4160-bf2b-942d97761006",
   "metadata": {},
   "outputs": [
    {
     "ename": "ValueError",
     "evalue": "Latent variable Power_ is not listed in the outer model paths or higher order constructs.",
     "output_type": "error",
     "traceback": [
      "\u001b[1;31m---------------------------------------------------------------------------\u001b[0m",
      "\u001b[1;31mValueError\u001b[0m                                Traceback (most recent call last)",
      "Cell \u001b[1;32mIn[28], line 4\u001b[0m\n\u001b[0;32m      1\u001b[0m structure \u001b[38;5;241m=\u001b[39m c\u001b[38;5;241m.\u001b[39mStructure()\n\u001b[0;32m      3\u001b[0m config \u001b[38;5;241m=\u001b[39m c\u001b[38;5;241m.\u001b[39mConfig(structure\u001b[38;5;241m.\u001b[39mpath(), scaled\u001b[38;5;241m=\u001b[39m\u001b[38;5;28;01mFalse\u001b[39;00m)\n\u001b[1;32m----> 4\u001b[0m config\u001b[38;5;241m.\u001b[39madd_lv(\u001b[38;5;124m\"\u001b[39m\u001b[38;5;124mPower_\u001b[39m\u001b[38;5;124m\"\u001b[39m, Mode\u001b[38;5;241m.\u001b[39mA, c\u001b[38;5;241m.\u001b[39mMV(\u001b[38;5;124m\"\u001b[39m\u001b[38;5;124mPower\u001b[39m\u001b[38;5;124m\"\u001b[39m))\n\u001b[0;32m      5\u001b[0m config\u001b[38;5;241m.\u001b[39madd_lv(\u001b[38;5;124m\"\u001b[39m\u001b[38;5;124mDifferent_\u001b[39m\u001b[38;5;124m\"\u001b[39m, Mode\u001b[38;5;241m.\u001b[39mA, c\u001b[38;5;241m.\u001b[39mMV(\u001b[38;5;124m\"\u001b[39m\u001b[38;5;124mDifferent\u001b[39m\u001b[38;5;124m\"\u001b[39m))\n\u001b[0;32m      6\u001b[0m config\u001b[38;5;241m.\u001b[39madd_lv(\u001b[38;5;124m\"\u001b[39m\u001b[38;5;124mMeaningful_\u001b[39m\u001b[38;5;124m\"\u001b[39m, Mode\u001b[38;5;241m.\u001b[39mA, c\u001b[38;5;241m.\u001b[39mMV(\u001b[38;5;124m\"\u001b[39m\u001b[38;5;124mMeaningful\u001b[39m\u001b[38;5;124m\"\u001b[39m))\n",
      "File \u001b[1;32m~\\AppData\\Local\\anaconda3\\envs\\for_bsa\\Lib\\site-packages\\plspm\\config.py:189\u001b[0m, in \u001b[0;36mConfig.add_lv\u001b[1;34m(self, lv_name, mode, *mvs)\u001b[0m\n\u001b[0;32m    187\u001b[0m hoc_lvs \u001b[38;5;241m=\u001b[39m [item \u001b[38;5;28;01mfor\u001b[39;00m lvs \u001b[38;5;129;01min\u001b[39;00m \u001b[38;5;28mself\u001b[39m\u001b[38;5;241m.\u001b[39m__hoc\u001b[38;5;241m.\u001b[39mvalues() \u001b[38;5;28;01mfor\u001b[39;00m item \u001b[38;5;129;01min\u001b[39;00m lvs]\n\u001b[0;32m    188\u001b[0m \u001b[38;5;28;01mif\u001b[39;00m lv_name \u001b[38;5;129;01mnot\u001b[39;00m \u001b[38;5;129;01min\u001b[39;00m \u001b[38;5;28mself\u001b[39m\u001b[38;5;241m.\u001b[39m__path \u001b[38;5;129;01mand\u001b[39;00m lv_name \u001b[38;5;129;01mnot\u001b[39;00m \u001b[38;5;129;01min\u001b[39;00m hoc_lvs:\n\u001b[1;32m--> 189\u001b[0m     \u001b[38;5;28;01mraise\u001b[39;00m \u001b[38;5;167;01mValueError\u001b[39;00m(\u001b[38;5;124m\"\u001b[39m\u001b[38;5;124mLatent variable \u001b[39m\u001b[38;5;124m\"\u001b[39m \u001b[38;5;241m+\u001b[39m lv_name \u001b[38;5;241m+\u001b[39m \u001b[38;5;124m\"\u001b[39m\u001b[38;5;124m is not listed in the outer model paths or higher order constructs.\u001b[39m\u001b[38;5;124m\"\u001b[39m)\n\u001b[0;32m    190\u001b[0m \u001b[38;5;28mself\u001b[39m\u001b[38;5;241m.\u001b[39m__modes[lv_name] \u001b[38;5;241m=\u001b[39m mode\n\u001b[0;32m    191\u001b[0m \u001b[38;5;28mself\u001b[39m\u001b[38;5;241m.\u001b[39m__mvs[lv_name] \u001b[38;5;241m=\u001b[39m []\n",
      "\u001b[1;31mValueError\u001b[0m: Latent variable Power_ is not listed in the outer model paths or higher order constructs."
     ]
    }
   ],
   "source": [
    "structure = c.Structure()\n",
    "\n",
    "structure.add_path(['Different_', 'Meaningful_', 'Salient_'], ['Power_'])\n",
    "\n",
    "for t in ['Different_', 'Meaningful_', 'Salient_']: \n",
    "    structure.add_path(['@input.Affinity_', '@input.MeetNeeds_', '@input.Dynamic_', '@input.Unique_'], [t])\n",
    "\n",
    "\n",
    "config = c.Config(structure.path(), scaled=False)\n",
    "config.add_lv(\"Power_\", Mode.A, c.MV(\"Power\"))\n",
    "config.add_lv(\"Different_\", Mode.A, c.MV(\"Different\"))\n",
    "config.add_lv(\"Meaningful_\", Mode.A, c.MV(\"Meaningful\"))\n",
    "config.add_lv(\"Salient_\", Mode.A, c.MV(\"Salient\"))\n",
    "\n",
    "config.add_lv(\"@input.Affinity_\", Mode.A, c.MV(\"@input.Affinity\"))\n",
    "config.add_lv(\"@input.MeetNeeds_\", Mode.A, c.MV(\"@input.MeetNeeds\"))\n",
    "config.add_lv(\"@input.Dynamic_\", Mode.A, c.MV(\"@input.Dynamic\"))\n",
    "config.add_lv(\"@input.Unique_\", Mode.A, c.MV(\"@input.Unique\"))\n",
    "\n",
    "\n",
    "\n",
    "\n",
    "plspm_calc = Plspm(data, config, Scheme.CENTROID)\n",
    "#print(plspm_calc.inner_summary())\n",
    "plspm_calc.path_coefficients()"
   ]
  },
  {
   "cell_type": "code",
   "execution_count": 26,
   "id": "e1fc657d-92e4-4aaa-926f-9bbabcccd35b",
   "metadata": {},
   "outputs": [
    {
     "data": {
      "text/html": [
       "<div>\n",
       "<style scoped>\n",
       "    .dataframe tbody tr th:only-of-type {\n",
       "        vertical-align: middle;\n",
       "    }\n",
       "\n",
       "    .dataframe tbody tr th {\n",
       "        vertical-align: top;\n",
       "    }\n",
       "\n",
       "    .dataframe thead th {\n",
       "        text-align: right;\n",
       "    }\n",
       "</style>\n",
       "<table border=\"1\" class=\"dataframe\">\n",
       "  <thead>\n",
       "    <tr style=\"text-align: right;\">\n",
       "      <th></th>\n",
       "      <th>@input.Unique_</th>\n",
       "      <th>@input.Dynamic_</th>\n",
       "      <th>@input.MeetNeeds_</th>\n",
       "      <th>@input.Affinity_</th>\n",
       "      <th>Salient_</th>\n",
       "      <th>Meaningful_</th>\n",
       "      <th>Different_</th>\n",
       "      <th>Power_</th>\n",
       "    </tr>\n",
       "  </thead>\n",
       "  <tbody>\n",
       "    <tr>\n",
       "      <th>@input.Unique_</th>\n",
       "      <td>0.000000</td>\n",
       "      <td>0.000000</td>\n",
       "      <td>0.000000</td>\n",
       "      <td>0.000000</td>\n",
       "      <td>0.000000</td>\n",
       "      <td>0.000000</td>\n",
       "      <td>0.000000</td>\n",
       "      <td>0.0</td>\n",
       "    </tr>\n",
       "    <tr>\n",
       "      <th>@input.Dynamic_</th>\n",
       "      <td>0.000000</td>\n",
       "      <td>0.000000</td>\n",
       "      <td>0.000000</td>\n",
       "      <td>0.000000</td>\n",
       "      <td>0.000000</td>\n",
       "      <td>0.000000</td>\n",
       "      <td>0.000000</td>\n",
       "      <td>0.0</td>\n",
       "    </tr>\n",
       "    <tr>\n",
       "      <th>@input.MeetNeeds_</th>\n",
       "      <td>0.000000</td>\n",
       "      <td>0.000000</td>\n",
       "      <td>0.000000</td>\n",
       "      <td>0.000000</td>\n",
       "      <td>0.000000</td>\n",
       "      <td>0.000000</td>\n",
       "      <td>0.000000</td>\n",
       "      <td>0.0</td>\n",
       "    </tr>\n",
       "    <tr>\n",
       "      <th>@input.Affinity_</th>\n",
       "      <td>0.000000</td>\n",
       "      <td>0.000000</td>\n",
       "      <td>0.000000</td>\n",
       "      <td>0.000000</td>\n",
       "      <td>0.000000</td>\n",
       "      <td>0.000000</td>\n",
       "      <td>0.000000</td>\n",
       "      <td>0.0</td>\n",
       "    </tr>\n",
       "    <tr>\n",
       "      <th>Salient_</th>\n",
       "      <td>-0.281309</td>\n",
       "      <td>-0.020722</td>\n",
       "      <td>0.234153</td>\n",
       "      <td>0.318354</td>\n",
       "      <td>0.000000</td>\n",
       "      <td>0.000000</td>\n",
       "      <td>0.000000</td>\n",
       "      <td>0.0</td>\n",
       "    </tr>\n",
       "    <tr>\n",
       "      <th>Meaningful_</th>\n",
       "      <td>0.519509</td>\n",
       "      <td>-0.423485</td>\n",
       "      <td>0.380830</td>\n",
       "      <td>0.456176</td>\n",
       "      <td>0.000000</td>\n",
       "      <td>0.000000</td>\n",
       "      <td>0.000000</td>\n",
       "      <td>0.0</td>\n",
       "    </tr>\n",
       "    <tr>\n",
       "      <th>Different_</th>\n",
       "      <td>-0.097617</td>\n",
       "      <td>1.260676</td>\n",
       "      <td>-0.158544</td>\n",
       "      <td>-0.335899</td>\n",
       "      <td>0.000000</td>\n",
       "      <td>0.000000</td>\n",
       "      <td>0.000000</td>\n",
       "      <td>0.0</td>\n",
       "    </tr>\n",
       "    <tr>\n",
       "      <th>Power_</th>\n",
       "      <td>0.000000</td>\n",
       "      <td>0.000000</td>\n",
       "      <td>0.000000</td>\n",
       "      <td>0.000000</td>\n",
       "      <td>0.536138</td>\n",
       "      <td>0.688587</td>\n",
       "      <td>0.301477</td>\n",
       "      <td>0.0</td>\n",
       "    </tr>\n",
       "  </tbody>\n",
       "</table>\n",
       "</div>"
      ],
      "text/plain": [
       "                   @input.Unique_  @input.Dynamic_  @input.MeetNeeds_  \\\n",
       "@input.Unique_           0.000000         0.000000           0.000000   \n",
       "@input.Dynamic_          0.000000         0.000000           0.000000   \n",
       "@input.MeetNeeds_        0.000000         0.000000           0.000000   \n",
       "@input.Affinity_         0.000000         0.000000           0.000000   \n",
       "Salient_                -0.281309        -0.020722           0.234153   \n",
       "Meaningful_              0.519509        -0.423485           0.380830   \n",
       "Different_              -0.097617         1.260676          -0.158544   \n",
       "Power_                   0.000000         0.000000           0.000000   \n",
       "\n",
       "                   @input.Affinity_  Salient_  Meaningful_  Different_  Power_  \n",
       "@input.Unique_             0.000000  0.000000     0.000000    0.000000     0.0  \n",
       "@input.Dynamic_            0.000000  0.000000     0.000000    0.000000     0.0  \n",
       "@input.MeetNeeds_          0.000000  0.000000     0.000000    0.000000     0.0  \n",
       "@input.Affinity_           0.000000  0.000000     0.000000    0.000000     0.0  \n",
       "Salient_                   0.318354  0.000000     0.000000    0.000000     0.0  \n",
       "Meaningful_                0.456176  0.000000     0.000000    0.000000     0.0  \n",
       "Different_                -0.335899  0.000000     0.000000    0.000000     0.0  \n",
       "Power_                     0.000000  0.536138     0.688587    0.301477     0.0  "
      ]
     },
     "execution_count": 26,
     "metadata": {},
     "output_type": "execute_result"
    }
   ],
   "source": [
    "structure = c.Structure()\n",
    "structure.add_path(['Meaningful_', 'Salient_'], ['Power_'])\n",
    "structure.add_path(['Different_'], ['Power_'])\n",
    "\n",
    "for t in ['Different_', 'Meaningful_', 'Salient_']: \n",
    "    structure.add_path(['@input.Affinity_', '@input.MeetNeeds_', '@input.Dynamic_', '@input.Unique_'], [t])\n",
    "\n",
    "config = c.Config(structure.path(), scaled=False)\n",
    "config.add_lv(\"Power_\", Mode.A, c.MV(\"Power\"))\n",
    "config.add_lv(\"Different_\", Mode.A, c.MV(\"Different\"))\n",
    "config.add_lv(\"Meaningful_\", Mode.A, c.MV(\"Meaningful\"))\n",
    "config.add_lv(\"Salient_\", Mode.A, c.MV(\"Salient\"))\n",
    "\n",
    "config.add_lv(\"@input.Affinity_\", Mode.A, c.MV(\"@input.Affinity\"))\n",
    "config.add_lv(\"@input.MeetNeeds_\", Mode.A, c.MV(\"@input.MeetNeeds\"))\n",
    "config.add_lv(\"@input.Dynamic_\", Mode.A, c.MV(\"@input.Dynamic\"))\n",
    "config.add_lv(\"@input.Unique_\", Mode.A, c.MV(\"@input.Unique\"))\n",
    "\n",
    "#config.add_lv_with_columns_named(\"Power\", Mode.A, data, \"Power\")\n",
    "#config.add_lv_with_columns_named(\"Different\", Mode.A, data, \"Different\")\n",
    "#config.add_lv_with_columns_named(\"Meaningful\", Mode.A, data, \"Meaningful\")\n",
    "#config.add_lv_with_columns_named(\"Salient\", Mode.A, data, \"Salient\")\n",
    "\n",
    "plspm_calc = Plspm(data, config, Scheme.CENTROID)\n",
    "#print(plspm_calc.inner_summary())\n",
    "plspm_calc.path_coefficients()"
   ]
  }
 ],
 "metadata": {
  "kernelspec": {
   "display_name": "Python 3 (ipykernel)",
   "language": "python",
   "name": "python3"
  },
  "language_info": {
   "codemirror_mode": {
    "name": "ipython",
    "version": 3
   },
   "file_extension": ".py",
   "mimetype": "text/x-python",
   "name": "python",
   "nbconvert_exporter": "python",
   "pygments_lexer": "ipython3",
   "version": "3.12.2"
  }
 },
 "nbformat": 4,
 "nbformat_minor": 5
}

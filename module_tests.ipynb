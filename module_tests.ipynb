{
 "cells": [
  {
   "cell_type": "code",
   "execution_count": 2,
   "id": "d8385736-a15c-40fa-a661-aa302623132d",
   "metadata": {},
   "outputs": [
    {
     "name": "stdout",
     "output_type": "stream",
     "text": [
      "The autoreload extension is already loaded. To reload it, use:\n",
      "  %reload_ext autoreload\n"
     ]
    }
   ],
   "source": [
    "%load_ext autoreload\n",
    "%autoreload 2\n",
    "\n",
    "from BSA import ExploratoryAnalysis\n"
   ]
  },
  {
   "cell_type": "markdown",
   "id": "7496dc05-7f4a-4bf0-a019-f5411472c157",
   "metadata": {
    "jp-MarkdownHeadingCollapsed": true
   },
   "source": [
    "## Test Read Data File"
   ]
  },
  {
   "cell_type": "code",
   "execution_count": 18,
   "id": "802bfb3c-f562-4294-92e0-fb7166ef0a7e",
   "metadata": {},
   "outputs": [],
   "source": [
    "expl = ExploratoryAnalysis()\n",
    "expl.ReadDataFile('data/data.xlsx')"
   ]
  },
  {
   "cell_type": "code",
   "execution_count": 23,
   "id": "5fbe0b9f-6340-4e54-8347-3e654f6a22f3",
   "metadata": {},
   "outputs": [
    {
     "data": {
      "text/html": [
       "<div>\n",
       "<style scoped>\n",
       "    .dataframe tbody tr th:only-of-type {\n",
       "        vertical-align: middle;\n",
       "    }\n",
       "\n",
       "    .dataframe tbody tr th {\n",
       "        vertical-align: top;\n",
       "    }\n",
       "\n",
       "    .dataframe thead th {\n",
       "        text-align: right;\n",
       "    }\n",
       "</style>\n",
       "<table border=\"1\" class=\"dataframe\">\n",
       "  <thead>\n",
       "    <tr style=\"text-align: right;\">\n",
       "      <th></th>\n",
       "      <th>EMOTIONAL</th>\n",
       "      <th>RATIONAL</th>\n",
       "      <th>LEADERSHIP</th>\n",
       "      <th>UNIQUENESS</th>\n",
       "      <th>GRATIFICATION</th>\n",
       "      <th>DISTINCTION</th>\n",
       "      <th>AMPLIFICATION</th>\n",
       "      <th>POWER</th>\n",
       "      <th>PREMIUM</th>\n",
       "    </tr>\n",
       "  </thead>\n",
       "  <tbody>\n",
       "    <tr>\n",
       "      <th>0</th>\n",
       "      <td>0.008745</td>\n",
       "      <td>0.014265</td>\n",
       "      <td>0.030010</td>\n",
       "      <td>0.021613</td>\n",
       "      <td>-0.471127</td>\n",
       "      <td>-0.382125</td>\n",
       "      <td>-0.294842</td>\n",
       "      <td>4.413546</td>\n",
       "      <td>0.763057</td>\n",
       "    </tr>\n",
       "    <tr>\n",
       "      <th>2</th>\n",
       "      <td>0.030145</td>\n",
       "      <td>0.014265</td>\n",
       "      <td>0.030010</td>\n",
       "      <td>0.034788</td>\n",
       "      <td>-0.303403</td>\n",
       "      <td>-0.452965</td>\n",
       "      <td>-0.333698</td>\n",
       "      <td>5.546215</td>\n",
       "      <td>1.084037</td>\n",
       "    </tr>\n",
       "    <tr>\n",
       "      <th>3</th>\n",
       "      <td>0.030145</td>\n",
       "      <td>0.014265</td>\n",
       "      <td>0.086310</td>\n",
       "      <td>0.094500</td>\n",
       "      <td>-0.273832</td>\n",
       "      <td>0.414002</td>\n",
       "      <td>-0.543052</td>\n",
       "      <td>7.950031</td>\n",
       "      <td>1.245946</td>\n",
       "    </tr>\n",
       "    <tr>\n",
       "      <th>4</th>\n",
       "      <td>0.008745</td>\n",
       "      <td>0.014265</td>\n",
       "      <td>0.030010</td>\n",
       "      <td>0.034788</td>\n",
       "      <td>-0.396318</td>\n",
       "      <td>-0.396217</td>\n",
       "      <td>-0.334954</td>\n",
       "      <td>4.833347</td>\n",
       "      <td>0.926898</td>\n",
       "    </tr>\n",
       "    <tr>\n",
       "      <th>5</th>\n",
       "      <td>0.008745</td>\n",
       "      <td>0.014265</td>\n",
       "      <td>0.030010</td>\n",
       "      <td>0.034788</td>\n",
       "      <td>-0.573921</td>\n",
       "      <td>-0.417805</td>\n",
       "      <td>0.371342</td>\n",
       "      <td>7.824029</td>\n",
       "      <td>0.880657</td>\n",
       "    </tr>\n",
       "    <tr>\n",
       "      <th>...</th>\n",
       "      <td>...</td>\n",
       "      <td>...</td>\n",
       "      <td>...</td>\n",
       "      <td>...</td>\n",
       "      <td>...</td>\n",
       "      <td>...</td>\n",
       "      <td>...</td>\n",
       "      <td>...</td>\n",
       "      <td>...</td>\n",
       "    </tr>\n",
       "    <tr>\n",
       "      <th>23994</th>\n",
       "      <td>0.009412</td>\n",
       "      <td>0.010225</td>\n",
       "      <td>0.020702</td>\n",
       "      <td>0.021645</td>\n",
       "      <td>-0.434057</td>\n",
       "      <td>-0.531972</td>\n",
       "      <td>-0.289879</td>\n",
       "      <td>3.353580</td>\n",
       "      <td>0.922430</td>\n",
       "    </tr>\n",
       "    <tr>\n",
       "      <th>23996</th>\n",
       "      <td>0.019469</td>\n",
       "      <td>0.017566</td>\n",
       "      <td>0.096487</td>\n",
       "      <td>0.027432</td>\n",
       "      <td>-0.742901</td>\n",
       "      <td>0.677514</td>\n",
       "      <td>-0.344853</td>\n",
       "      <td>4.516578</td>\n",
       "      <td>1.290803</td>\n",
       "    </tr>\n",
       "    <tr>\n",
       "      <th>23997</th>\n",
       "      <td>0.009412</td>\n",
       "      <td>0.010225</td>\n",
       "      <td>0.020702</td>\n",
       "      <td>0.021645</td>\n",
       "      <td>-0.434057</td>\n",
       "      <td>-0.531972</td>\n",
       "      <td>-0.289879</td>\n",
       "      <td>3.353580</td>\n",
       "      <td>0.922430</td>\n",
       "    </tr>\n",
       "    <tr>\n",
       "      <th>23998</th>\n",
       "      <td>0.019469</td>\n",
       "      <td>0.032828</td>\n",
       "      <td>0.037734</td>\n",
       "      <td>0.027432</td>\n",
       "      <td>-0.389773</td>\n",
       "      <td>-0.320236</td>\n",
       "      <td>-0.179738</td>\n",
       "      <td>5.005224</td>\n",
       "      <td>1.218994</td>\n",
       "    </tr>\n",
       "    <tr>\n",
       "      <th>23999</th>\n",
       "      <td>0.019469</td>\n",
       "      <td>0.017566</td>\n",
       "      <td>0.096487</td>\n",
       "      <td>0.027432</td>\n",
       "      <td>-0.742901</td>\n",
       "      <td>0.677514</td>\n",
       "      <td>-0.344853</td>\n",
       "      <td>4.516578</td>\n",
       "      <td>1.290803</td>\n",
       "    </tr>\n",
       "  </tbody>\n",
       "</table>\n",
       "<p>15575 rows × 9 columns</p>\n",
       "</div>"
      ],
      "text/plain": [
       "       EMOTIONAL  RATIONAL  LEADERSHIP  UNIQUENESS  GRATIFICATION  \\\n",
       "0       0.008745  0.014265    0.030010    0.021613      -0.471127   \n",
       "2       0.030145  0.014265    0.030010    0.034788      -0.303403   \n",
       "3       0.030145  0.014265    0.086310    0.094500      -0.273832   \n",
       "4       0.008745  0.014265    0.030010    0.034788      -0.396318   \n",
       "5       0.008745  0.014265    0.030010    0.034788      -0.573921   \n",
       "...          ...       ...         ...         ...            ...   \n",
       "23994   0.009412  0.010225    0.020702    0.021645      -0.434057   \n",
       "23996   0.019469  0.017566    0.096487    0.027432      -0.742901   \n",
       "23997   0.009412  0.010225    0.020702    0.021645      -0.434057   \n",
       "23998   0.019469  0.032828    0.037734    0.027432      -0.389773   \n",
       "23999   0.019469  0.017566    0.096487    0.027432      -0.742901   \n",
       "\n",
       "       DISTINCTION  AMPLIFICATION     POWER   PREMIUM  \n",
       "0        -0.382125      -0.294842  4.413546  0.763057  \n",
       "2        -0.452965      -0.333698  5.546215  1.084037  \n",
       "3         0.414002      -0.543052  7.950031  1.245946  \n",
       "4        -0.396217      -0.334954  4.833347  0.926898  \n",
       "5        -0.417805       0.371342  7.824029  0.880657  \n",
       "...            ...            ...       ...       ...  \n",
       "23994    -0.531972      -0.289879  3.353580  0.922430  \n",
       "23996     0.677514      -0.344853  4.516578  1.290803  \n",
       "23997    -0.531972      -0.289879  3.353580  0.922430  \n",
       "23998    -0.320236      -0.179738  5.005224  1.218994  \n",
       "23999     0.677514      -0.344853  4.516578  1.290803  \n",
       "\n",
       "[15575 rows x 9 columns]"
      ]
     },
     "execution_count": 23,
     "metadata": {},
     "output_type": "execute_result"
    }
   ],
   "source": [
    "expl.clean_mdf_data"
   ]
  },
  {
   "cell_type": "code",
   "execution_count": 22,
   "id": "1750bdaa-6f85-4919-af68-32725f9599ca",
   "metadata": {},
   "outputs": [
    {
     "data": {
      "text/plain": [
       "odict_keys(['All_image_grid', 'Set_2', 'Set_3', 'Set_4'])"
      ]
     },
     "execution_count": 22,
     "metadata": {},
     "output_type": "execute_result"
    }
   ],
   "source": [
    "expl.image_sets.keys()"
   ]
  },
  {
   "cell_type": "markdown",
   "id": "58488e72-f11f-4ef9-9e07-10eed2e7aba2",
   "metadata": {},
   "source": [
    "## Test expl. functions"
   ]
  },
  {
   "cell_type": "code",
   "execution_count": 57,
   "id": "35e7964f-46c1-4be6-94bb-84ea15d5c8c6",
   "metadata": {},
   "outputs": [
    {
     "name": "stdout",
     "output_type": "stream",
     "text": [
      "Read File - Ok\n",
      "First Order Drivers - Ok\n"
     ]
    }
   ],
   "source": [
    "expl = ExploratoryAnalysis()\n",
    "expl.ExploratoryReport(\"data/data.xlsx\")"
   ]
  },
  {
   "cell_type": "code",
   "execution_count": null,
   "id": "f933845f-884a-437c-82cd-377c4757dcbc",
   "metadata": {},
   "outputs": [],
   "source": []
  },
  {
   "cell_type": "code",
   "execution_count": null,
   "id": "0aa9f3cb-d5b0-4724-8892-1bcb5c0e328f",
   "metadata": {},
   "outputs": [],
   "source": []
  },
  {
   "cell_type": "code",
   "execution_count": null,
   "id": "d57da860-194d-4260-afd3-db9eae3f21f1",
   "metadata": {},
   "outputs": [],
   "source": []
  },
  {
   "cell_type": "code",
   "execution_count": 4,
   "id": "3bcd5d04-76c7-4fdb-a941-464759862e1c",
   "metadata": {},
   "outputs": [
    {
     "data": {
      "application/vnd.jupyter.widget-view+json": {
       "model_id": "d6cc064fccfd48f5ae369bad37c65bef",
       "version_major": 2,
       "version_minor": 0
      },
      "text/plain": [
       "  0%|          | 0/1000000 [00:00<?, ?it/s]"
      ]
     },
     "metadata": {},
     "output_type": "display_data"
    },
    {
     "data": {
      "application/vnd.jupyter.widget-view+json": {
       "model_id": "d82d6785f1bb47c48b66203d322f217c",
       "version_major": 2,
       "version_minor": 0
      },
      "text/plain": [
       "  0%|          | 0/1000000 [00:00<?, ?it/s]"
      ]
     },
     "metadata": {},
     "output_type": "display_data"
    },
    {
     "data": {
      "application/vnd.jupyter.widget-view+json": {
       "model_id": "cc288e78585848fa99f05f1b9982296b",
       "version_major": 2,
       "version_minor": 0
      },
      "text/plain": [
       "  0%|          | 0/1000000 [00:00<?, ?it/s]"
      ]
     },
     "metadata": {},
     "output_type": "display_data"
    },
    {
     "data": {
      "application/vnd.jupyter.widget-view+json": {
       "model_id": "876c8a3c94f642488a1c867197a076f2",
       "version_major": 2,
       "version_minor": 0
      },
      "text/plain": [
       "  0%|          | 0/1000000 [00:00<?, ?it/s]"
      ]
     },
     "metadata": {},
     "output_type": "display_data"
    },
    {
     "data": {
      "application/vnd.jupyter.widget-view+json": {
       "model_id": "b217f06d6cab46ba9b41cb56b1aef172",
       "version_major": 2,
       "version_minor": 0
      },
      "text/plain": [
       "  0%|          | 0/1000000 [00:00<?, ?it/s]"
      ]
     },
     "metadata": {},
     "output_type": "display_data"
    },
    {
     "data": {
      "application/vnd.jupyter.widget-view+json": {
       "model_id": "cf68b723bd0f4af98222aae35af59195",
       "version_major": 2,
       "version_minor": 0
      },
      "text/plain": [
       "  0%|          | 0/1000000 [00:00<?, ?it/s]"
      ]
     },
     "metadata": {},
     "output_type": "display_data"
    }
   ],
   "source": [
    "expl = ExploratoryAnalysis()\n",
    "expl.ExploratoryReport('data/data.xlsx')"
   ]
  }
 ],
 "metadata": {
  "kernelspec": {
   "display_name": "Python 3 (ipykernel)",
   "language": "python",
   "name": "python3"
  },
  "language_info": {
   "codemirror_mode": {
    "name": "ipython",
    "version": 3
   },
   "file_extension": ".py",
   "mimetype": "text/x-python",
   "name": "python",
   "nbconvert_exporter": "python",
   "pygments_lexer": "ipython3",
   "version": "3.12.2"
  }
 },
 "nbformat": 4,
 "nbformat_minor": 5
}
